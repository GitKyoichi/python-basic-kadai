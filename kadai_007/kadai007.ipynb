{
  "nbformat": 4,
  "nbformat_minor": 0,
  "metadata": {
    "colab": {
      "provenance": []
    },
    "kernelspec": {
      "name": "python3",
      "display_name": "Python 3"
    },
    "language_info": {
      "name": "python"
    }
  },
  "cells": [
    {
      "cell_type": "code",
      "execution_count": 1,
      "metadata": {
        "colab": {
          "base_uri": "https://localhost:8080/"
        },
        "id": "sMqcFTK2W9va",
        "outputId": "b14b5088-1429-4155-e816-eab9e902c09f"
      },
      "outputs": [
        {
          "output_type": "stream",
          "name": "stdout",
          "text": [
            "水曜日は晴れです\n"
          ]
        }
      ],
      "source": [
        "array = [\"月曜日は晴れです\",\n",
        "         \"火曜日は雨です\",\n",
        "         \"水曜日は晴れです\",\n",
        "         \"木曜日は晴れです\",\n",
        "         \"金曜日は曇りです\",\n",
        "         \"土曜日は曇りのち雨です\",\n",
        "         \"日曜日は雷雨です\"]\n",
        "print(array[2])"
      ]
    },
    {
      "cell_type": "code",
      "source": [
        "dictionary = {\"mon\":\"晴れ\",\n",
        "              \"tue\":\"雨\",\n",
        "              \"wed\":\"晴れ\",\n",
        "              \"thu\":\"晴れ\",\n",
        "              \"fri\":\"曇り\",\n",
        "              \"sat\":\"曇りのち雨\",\n",
        "              \"sun\":\"雷雨\"}\n",
        "print(dictionary[\"wed\"])"
      ],
      "metadata": {
        "colab": {
          "base_uri": "https://localhost:8080/"
        },
        "id": "EdD2iJyOaeHp",
        "outputId": "f715ee97-8dbf-4c8b-9484-f981da551e8e"
      },
      "execution_count": 2,
      "outputs": [
        {
          "output_type": "stream",
          "name": "stdout",
          "text": [
            "晴れ\n"
          ]
        }
      ]
    }
  ]
}