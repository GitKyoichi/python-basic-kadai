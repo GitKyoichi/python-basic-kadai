{
  "nbformat": 4,
  "nbformat_minor": 0,
  "metadata": {
    "colab": {
      "provenance": []
    },
    "kernelspec": {
      "name": "python3",
      "display_name": "Python 3"
    },
    "language_info": {
      "name": "python"
    }
  },
  "cells": [
    {
      "cell_type": "code",
      "execution_count": 2,
      "metadata": {
        "colab": {
          "base_uri": "https://localhost:8080/"
        },
        "id": "2_gQVQ0wflf9",
        "outputId": "25c9933f-6345-4aa0-a888-de83e96e2029"
      },
      "outputs": [
        {
          "output_type": "stream",
          "name": "stdout",
          "text": [
            "The area of the trapezoid is: 75.0㎠\n"
          ]
        }
      ],
      "source": [
        "top_length = 10\n",
        "bottom_length = 20\n",
        "height = 5\n",
        "area = (top_length + bottom_length) * height / 2\n",
        "print(\"The area of the trapezoid is: \" + str(area) + \"㎠\")"
      ]
    }
  ]
}