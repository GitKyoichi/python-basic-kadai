{
  "nbformat": 4,
  "nbformat_minor": 0,
  "metadata": {
    "colab": {
      "provenance": []
    },
    "kernelspec": {
      "name": "python3",
      "display_name": "Python 3"
    },
    "language_info": {
      "name": "python"
    }
  },
  "cells": [
    {
      "cell_type": "code",
      "execution_count": 5,
      "metadata": {
        "colab": {
          "base_uri": "https://localhost:8080/"
        },
        "id": "2_gQVQ0wflf9",
        "outputId": "1513e9cd-f93d-4f23-f1c0-53cbe6546556"
      },
      "outputs": [
        {
          "output_type": "stream",
          "name": "stdout",
          "text": [
            "75.0cm²\n"
          ]
        }
      ],
      "source": [
        "top_length = 10\n",
        "bottom_length = 20\n",
        "height = 5\n",
        "area = (top_length + bottom_length) * height / 2\n",
        "print(str(area) + \"cm²\")"
      ]
    }
  ]
}