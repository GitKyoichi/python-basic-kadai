{
  "nbformat": 4,
  "nbformat_minor": 0,
  "metadata": {
    "colab": {
      "provenance": []
    },
    "kernelspec": {
      "name": "python3",
      "display_name": "Python 3"
    },
    "language_info": {
      "name": "python"
    }
  },
  "cells": [
    {
      "cell_type": "code",
      "execution_count": 5,
      "metadata": {
        "colab": {
          "base_uri": "https://localhost:8080/"
        },
        "id": "6ztWU8wYx5ts",
        "outputId": "32f1486d-0035-4c17-acf5-63642421701e"
      },
      "outputs": [
        {
          "output_type": "stream",
          "name": "stdout",
          "text": [
            "太郎 は 大人です。\n",
            "一郎 は 大人です。\n",
            "二郎 は 大人です。\n",
            "三郎 は 未成年です。\n",
            "四郎 は 未成年です。\n"
          ]
        }
      ],
      "source": [
        "class Human:\n",
        "  def __init__(self, name, age):\n",
        "    self.name = name\n",
        "    self.age = age\n",
        "\n",
        "  def check_adult(self):\n",
        "    if self.age >= 20:\n",
        "      print(f'{self.name} は 大人です。')\n",
        "    else:\n",
        "      print(f'{self.name} は 未成年です。')\n",
        "\n",
        "h_names = [\"太郎\", \"一郎\", \"二郎\", \"三郎\", \"四郎\"]\n",
        "h_ages = [23, 21, 20, 17, 13]\n",
        "human_list = []\n",
        "\n",
        "for i in range(len(h_names)):\n",
        "  human = Human(h_names[i], h_ages[i])\n",
        "  human_list.append(human)\n",
        "\n",
        "for human in human_list:\n",
        "  human.check_adult()\n"
      ]
    }
  ]
}