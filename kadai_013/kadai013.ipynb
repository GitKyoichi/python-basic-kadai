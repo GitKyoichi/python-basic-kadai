{
  "nbformat": 4,
  "nbformat_minor": 0,
  "metadata": {
    "colab": {
      "provenance": []
    },
    "kernelspec": {
      "name": "python3",
      "display_name": "Python 3"
    },
    "language_info": {
      "name": "python"
    }
  },
  "cells": [
    {
      "cell_type": "code",
      "execution_count": 2,
      "metadata": {
        "colab": {
          "base_uri": "https://localhost:8080/"
        },
        "id": "V_JgZrCFtJ6d",
        "outputId": "a0fb7982-50e5-4db8-b808-67721fbb1cb5"
      },
      "outputs": [
        {
          "output_type": "stream",
          "name": "stdout",
          "text": [
            "121.0\n"
          ]
        }
      ],
      "source": [
        "def calc_tax(price: int,tax: int) -> int:\n",
        "  return price + price * tax / 100\n",
        "\n",
        "print(calc_tax(110,10))"
      ]
    }
  ]
}